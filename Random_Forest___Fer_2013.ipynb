{
  "cells": [
    {
      "cell_type": "code",
      "execution_count": null,
      "metadata": {
        "id": "dVNyjaxydRMK"
      },
      "outputs": [],
      "source": [
        "import sys\n",
        "from PIL import Image\n",
        "import sklearn\n",
        "import matplotlib\n",
        "import numpy as np\n",
        "import os\n",
        "import matplotlib.pyplot as plt\n",
        "import tensorflow as tf\n",
        "import keras\n",
        "from tensorflow.keras.utils import load_img, to_categorical\n",
        "from keras.preprocessing.image import ImageDataGenerator\n",
        "from keras.layers import Conv2D, Dense, BatchNormalization, Activation, Dropout, MaxPooling2D, Flatten\n",
        "from keras.optimizers import Adam, RMSprop, SGD\n",
        "from keras import regularizers\n",
        "from keras.callbacks import ModelCheckpoint, CSVLogger, TensorBoard, EarlyStopping, ReduceLROnPlateau\n",
        "import cv2\n",
        "import pandas as pd"
      ]
    },
    {
      "cell_type": "code",
      "execution_count": null,
      "metadata": {
        "id": "mRLPY7UnyzRB"
      },
      "outputs": [],
      "source": [
        "# !pip install imbalanced-learn"
      ]
    },
    {
      "cell_type": "code",
      "execution_count": null,
      "metadata": {
        "id": "GgxGO617d64X"
      },
      "outputs": [],
      "source": [
        "# Đường dẫn đến thư mục chứa dữ liệu huấn luyện và kiểm tra\n",
        "train_dir = '/content/drive/MyDrive/Các kì học tại HUS/B. Học kì 6 tại HUS/Seminar /Nghiên cứu/archive/train/'\n",
        "test_dir = '/content/drive/MyDrive/Các kì học tại HUS/B. Học kì 6 tại HUS/Seminar /Nghiên cứu/archive/test/'\n",
        "\n",
        "CATEGORIES = ['angry','disgust','fear','happy','neutral', 'sad', 'surprise']"
      ]
    },
    {
      "cell_type": "code",
      "execution_count": null,
      "metadata": {
        "id": "EG1kMSd-nqdk",
        "colab": {
          "base_uri": "https://localhost:8080/",
          "height": 344
        },
        "outputId": "94ab0e39-3d29-4b37-dea1-a078fdff0bab"
      },
      "outputs": [
        {
          "output_type": "error",
          "ename": "FileNotFoundError",
          "evalue": "[Errno 2] No such file or directory: '/content/drive/MyDrive/Các kì học tại HUS/B. Học kì 6 tại HUS/Seminar /Nghiên cứu/archive/train/angry'",
          "traceback": [
            "\u001b[0;31m---------------------------------------------------------------------------\u001b[0m",
            "\u001b[0;31mFileNotFoundError\u001b[0m                         Traceback (most recent call last)",
            "\u001b[0;32m<ipython-input-3-54d8a24ecef9>\u001b[0m in \u001b[0;36m<cell line: 14>\u001b[0;34m()\u001b[0m\n\u001b[1;32m     12\u001b[0m             \u001b[0;32mexcept\u001b[0m \u001b[0mException\u001b[0m \u001b[0;32mas\u001b[0m \u001b[0me\u001b[0m\u001b[0;34m:\u001b[0m\u001b[0;34m\u001b[0m\u001b[0;34m\u001b[0m\u001b[0m\n\u001b[1;32m     13\u001b[0m                 \u001b[0;32mpass\u001b[0m\u001b[0;34m\u001b[0m\u001b[0;34m\u001b[0m\u001b[0m\n\u001b[0;32m---> 14\u001b[0;31m \u001b[0mcreate_training_data\u001b[0m\u001b[0;34m(\u001b[0m\u001b[0;34m)\u001b[0m\u001b[0;34m\u001b[0m\u001b[0;34m\u001b[0m\u001b[0m\n\u001b[0m",
            "\u001b[0;32m<ipython-input-3-54d8a24ecef9>\u001b[0m in \u001b[0;36mcreate_training_data\u001b[0;34m()\u001b[0m\n\u001b[1;32m      4\u001b[0m         \u001b[0mpath\u001b[0m\u001b[0;34m=\u001b[0m\u001b[0mos\u001b[0m\u001b[0;34m.\u001b[0m\u001b[0mpath\u001b[0m\u001b[0;34m.\u001b[0m\u001b[0mjoin\u001b[0m\u001b[0;34m(\u001b[0m\u001b[0mtrain_dir\u001b[0m\u001b[0;34m,\u001b[0m \u001b[0mcategory\u001b[0m\u001b[0;34m)\u001b[0m\u001b[0;34m\u001b[0m\u001b[0;34m\u001b[0m\u001b[0m\n\u001b[1;32m      5\u001b[0m         \u001b[0mclass_num\u001b[0m\u001b[0;34m=\u001b[0m\u001b[0mCATEGORIES\u001b[0m\u001b[0;34m.\u001b[0m\u001b[0mindex\u001b[0m\u001b[0;34m(\u001b[0m\u001b[0mcategory\u001b[0m\u001b[0;34m)\u001b[0m\u001b[0;34m\u001b[0m\u001b[0;34m\u001b[0m\u001b[0m\n\u001b[0;32m----> 6\u001b[0;31m         \u001b[0;32mfor\u001b[0m \u001b[0mimg\u001b[0m \u001b[0;32min\u001b[0m \u001b[0mos\u001b[0m\u001b[0;34m.\u001b[0m\u001b[0mlistdir\u001b[0m\u001b[0;34m(\u001b[0m\u001b[0mpath\u001b[0m\u001b[0;34m)\u001b[0m\u001b[0;34m:\u001b[0m\u001b[0;34m\u001b[0m\u001b[0;34m\u001b[0m\u001b[0m\n\u001b[0m\u001b[1;32m      7\u001b[0m             \u001b[0;32mtry\u001b[0m\u001b[0;34m:\u001b[0m\u001b[0;34m\u001b[0m\u001b[0;34m\u001b[0m\u001b[0m\n\u001b[1;32m      8\u001b[0m                 \u001b[0mimg_array\u001b[0m\u001b[0;34m=\u001b[0m\u001b[0mcv2\u001b[0m\u001b[0;34m.\u001b[0m\u001b[0mimread\u001b[0m\u001b[0;34m(\u001b[0m\u001b[0mos\u001b[0m\u001b[0;34m.\u001b[0m\u001b[0mpath\u001b[0m\u001b[0;34m.\u001b[0m\u001b[0mjoin\u001b[0m\u001b[0;34m(\u001b[0m\u001b[0mpath\u001b[0m\u001b[0;34m,\u001b[0m\u001b[0mimg\u001b[0m\u001b[0;34m)\u001b[0m\u001b[0;34m)\u001b[0m\u001b[0;34m\u001b[0m\u001b[0;34m\u001b[0m\u001b[0m\n",
            "\u001b[0;31mFileNotFoundError\u001b[0m: [Errno 2] No such file or directory: '/content/drive/MyDrive/Các kì học tại HUS/B. Học kì 6 tại HUS/Seminar /Nghiên cứu/archive/train/angry'"
          ]
        }
      ],
      "source": [
        "training_data=[]\n",
        "def create_training_data():\n",
        "    for category in CATEGORIES:\n",
        "        path=os.path.join(train_dir, category)\n",
        "        class_num=CATEGORIES.index(category)\n",
        "        for img in os.listdir(path):\n",
        "            try:\n",
        "                img_array=cv2.imread(os.path.join(path,img))\n",
        "                img_gray = cv2.cvtColor(img_array,cv2.COLOR_BGR2GRAY)\n",
        "                new_array=cv2.resize(img_gray,(48,48))\n",
        "                training_data.append([new_array,class_num])\n",
        "            except Exception as e:\n",
        "                pass\n",
        "create_training_data()"
      ]
    },
    {
      "cell_type": "code",
      "execution_count": null,
      "metadata": {
        "id": "BvpRe3okn1IF"
      },
      "outputs": [],
      "source": [
        "test_data=[]\n",
        "def create_test_data():\n",
        "    for category in CATEGORIES:\n",
        "        path=os.path.join(test_dir, category)\n",
        "        class_num=CATEGORIES.index(category)\n",
        "        for img in os.listdir(path):\n",
        "            try:\n",
        "                img_array=cv2.imread(os.path.join(path,img))\n",
        "                img_gray = cv2.cvtColor(img_array,cv2.COLOR_BGR2GRAY)\n",
        "                new_array=cv2.resize(img_gray,(48,48))\n",
        "                test_data.append([new_array,class_num])\n",
        "            except Exception as e:\n",
        "                pass\n",
        "create_test_data()"
      ]
    },
    {
      "cell_type": "code",
      "execution_count": null,
      "metadata": {
        "id": "Bz_SBvRJn34_"
      },
      "outputs": [],
      "source": [
        "x_train=[]\n",
        "y_train=[]\n",
        "\n",
        "for categories, label in training_data:\n",
        "    x_train.append(categories)\n",
        "    y_train.append(label)"
      ]
    },
    {
      "cell_type": "code",
      "execution_count": null,
      "metadata": {
        "id": "M1_lG5PGn59X"
      },
      "outputs": [],
      "source": [
        "x_test=[]\n",
        "y_test=[]\n",
        "\n",
        "for categories, label in test_data:\n",
        "    x_test.append(categories)\n",
        "    y_test.append(label)"
      ]
    },
    {
      "cell_type": "code",
      "execution_count": null,
      "metadata": {
        "colab": {
          "base_uri": "https://localhost:8080/"
        },
        "id": "XgWYPEbMoA95",
        "outputId": "f021e69d-8e53-4e2a-f252-4ea8785630cf"
      },
      "outputs": [
        {
          "output_type": "stream",
          "name": "stdout",
          "text": [
            "(28694, 2304)\n",
            "(2304,)\n"
          ]
        },
        {
          "output_type": "execute_result",
          "data": {
            "text/plain": [
              "array([[0.4627451 , 0.4627451 , 0.55686275, ..., 0.37647059, 0.38039216,\n",
              "        0.38823529],\n",
              "       [0.51372549, 0.52156863, 0.51372549, ..., 0.67843137, 0.70196078,\n",
              "        0.69411765],\n",
              "       [0.3254902 , 0.34117647, 0.34509804, ..., 0.27843137, 0.26666667,\n",
              "        0.31764706],\n",
              "       ...,\n",
              "       [0.36862745, 0.39215686, 0.44705882, ..., 0.59215686, 0.62745098,\n",
              "        0.67058824],\n",
              "       [0.17254902, 0.19215686, 0.1372549 , ..., 0.83529412, 0.65882353,\n",
              "        0.50196078],\n",
              "       [0.98431373, 1.        , 0.82745098, ..., 0.98039216, 1.        ,\n",
              "        1.        ]])"
            ]
          },
          "metadata": {},
          "execution_count": 8
        }
      ],
      "source": [
        "# preprocessing the images\n",
        "# Chuyển đổi số chiều của X_train và X_test\n",
        "X_train = np.array(x_train).reshape(len(x_train),-1)\n",
        "X_test = np.array(x_test).reshape(len(x_test),-1)\n",
        "# Chuyển đổi giá trị pixel thành đoạn [0, 1]\n",
        "X_train =  X_train.astype(float) / 255.0\n",
        "X_test =  X_test.astype(float) / 255.0\n",
        "\n",
        "\n",
        "print(X_train.shape)\n",
        "print(X_train[0].shape)\n",
        "X_train"
      ]
    },
    {
      "cell_type": "code",
      "execution_count": null,
      "metadata": {
        "colab": {
          "base_uri": "https://localhost:8080/"
        },
        "id": "IMTQrnrpFrWf",
        "outputId": "82d149a5-b547-4038-a70c-c5b9bd4b0eb3"
      },
      "outputs": [
        {
          "output_type": "stream",
          "name": "stdout",
          "text": [
            "(28694,)\n",
            "(7178,)\n"
          ]
        }
      ],
      "source": [
        "# Chuyển đổi y_train và y_test thành mảng 1D và kiểu dữ liệu int64\n",
        "y_train = np.array(y_train)\n",
        "print(y_train.shape)\n",
        "y_test = np.array(y_test)\n",
        "print(y_test.shape)"
      ]
    },
    {
      "cell_type": "code",
      "execution_count": null,
      "metadata": {
        "colab": {
          "base_uri": "https://localhost:8080/"
        },
        "id": "8P1Rsg8iHNKP",
        "outputId": "01661e56-9ac6-48d7-93d6-916ef9291efd"
      },
      "outputs": [
        {
          "output_type": "execute_result",
          "data": {
            "text/plain": [
              "array([0, 0, 0, ..., 6, 6, 6])"
            ]
          },
          "metadata": {},
          "execution_count": 10
        }
      ],
      "source": [
        "y_test"
      ]
    },
    {
      "cell_type": "code",
      "execution_count": null,
      "metadata": {
        "colab": {
          "base_uri": "https://localhost:8080/"
        },
        "id": "s5TjPepWy59K",
        "outputId": "aa4e57f0-36d3-45e3-df16-1d69ec906736"
      },
      "outputs": [
        {
          "output_type": "stream",
          "name": "stdout",
          "text": [
            "Kích thước dữ liệu sau khi Oversampling: (50498, 2304) (50498,)\n"
          ]
        }
      ],
      "source": [
        "from imblearn.over_sampling import SMOTE\n",
        "\n",
        "# Tạo đối tượng SMOTE\n",
        "smote = SMOTE()\n",
        "\n",
        "# Áp dụng Oversampling bằng SMOTE cho dữ liệu huấn luyện\n",
        "X_train, y_train = smote.fit_resample(X_train, y_train)\n",
        "\n",
        "# Kiểm tra kích thước của dữ liệu sau khi Oversampling\n",
        "print(\"Kích thước dữ liệu sau khi Oversampling:\", X_train.shape, y_train.shape)"
      ]
    },
    {
      "cell_type": "code",
      "source": [
        "# Đếm số lượng mẫu của từng nhãn\n",
        "unique_labels, counts = np.unique(y_train, return_counts=True)\n",
        "\n",
        "for label, count in zip(unique_labels, counts):\n",
        "    print(\"Nhãn\", label, \": Số lượng mẫu =\", count)"
      ],
      "metadata": {
        "colab": {
          "base_uri": "https://localhost:8080/"
        },
        "id": "RZHkOEBLN1OF",
        "outputId": "ca121181-a3ae-426e-a4b0-87d4d991567f"
      },
      "execution_count": null,
      "outputs": [
        {
          "output_type": "stream",
          "name": "stdout",
          "text": [
            "Nhãn 0 : Số lượng mẫu = 7214\n",
            "Nhãn 1 : Số lượng mẫu = 7214\n",
            "Nhãn 2 : Số lượng mẫu = 7214\n",
            "Nhãn 3 : Số lượng mẫu = 7214\n",
            "Nhãn 4 : Số lượng mẫu = 7214\n",
            "Nhãn 5 : Số lượng mẫu = 7214\n",
            "Nhãn 6 : Số lượng mẫu = 7214\n"
          ]
        }
      ]
    },
    {
      "cell_type": "markdown",
      "metadata": {
        "id": "17gpHV6KMPjo"
      },
      "source": [
        "# **RANDOM FOREST**"
      ]
    },
    {
      "cell_type": "code",
      "execution_count": null,
      "metadata": {
        "id": "lsLMROfaHa2E"
      },
      "outputs": [],
      "source": [
        "# #Đánh giá và cải thiện mô hình bằng cách sử dụng các kỹ thuật như cross-validation,\n",
        "# #tối ưu hóa siêu tham số và đánh giá mô hình trên tập kiểm tra.\n",
        "# from sklearn.ensemble import RandomForestClassifier\n",
        "# from sklearn.model_selection import cross_val_score, GridSearchCV, KFold\n",
        "# from sklearn.metrics import classification_report\n",
        "\n",
        "# # Define the model\n",
        "# model = RandomForestClassifier(n_estimators=100, max_depth=5, random_state=100)\n",
        "\n",
        "# # Số lượng fold và khởi tạo KFold\n",
        "# k = 10\n",
        "# kf = KFold(n_splits=k, shuffle=True, random_state=42)\n",
        "\n",
        "# # Grid search for hyperparameter tuning\n",
        "# params = {'n_estimators': [100, 200, 300, 400, 500], 'max_depth': [2,3,5,10,20], 'min_samples_leaf': [2,5,10,20,50,100,200]}\n",
        "# grid_search = GridSearchCV(model, params, cv=kf, scoring='accuracy')\n",
        "# grid_search.fit(X_train, y_train)\n",
        "# print('Best hyperparameters:', grid_search.best_params_)\n"
      ]
    },
    {
      "cell_type": "code",
      "execution_count": null,
      "metadata": {
        "id": "6OyPfzqxjtdv"
      },
      "outputs": [],
      "source": [
        "# # Xây dựng mô hình SVM với giá trị tốt nhất của các hyperparameter\n",
        "# best_model = grid_search.best_estimator_\n",
        "# best_model.fit(X_train, y_train)\n",
        "\n",
        "# # Dự đoán nhãn cho tập kiểm tra\n",
        "# y_pred = best_model.predict(X_test)\n",
        "# print(classification_report(y_test, y_pred))\n",
        "# # Đánh giá mô hình bằng độ chính xác\n",
        "# accuracy = accuracy_score(y_test, y_pred)\n",
        "# print(\"Độ chính xác của mô hình SVM:\", accuracy)"
      ]
    },
    {
      "cell_type": "code",
      "execution_count": null,
      "metadata": {
        "id": "QQORSlqHZpbT"
      },
      "outputs": [],
      "source": [
        "# # Chạy cross-validation và tính độ chính xác và độ lệch chuẩn\n",
        "# scores = cross_val_score(best_model, X, y, cv=10, scoring='accuracy')\n",
        "\n",
        "# print(\"Mean Accuracy (after hyperparameter tuning):\", scores.mean())\n",
        "# print(\"Standard Deviation (after hyperparameter tuning):\", scores.std())"
      ]
    },
    {
      "cell_type": "markdown",
      "metadata": {
        "id": "UH7PNEOgnGTU"
      },
      "source": [
        "Best model"
      ]
    },
    {
      "cell_type": "code",
      "execution_count": null,
      "metadata": {
        "id": "Dro2UY_bkcax"
      },
      "outputs": [],
      "source": [
        "#Xây dựng một mô hình Random Forest\n",
        "from sklearn.ensemble import RandomForestClassifier\n",
        "from sklearn.metrics import classification_report\n",
        "from sklearn.metrics import accuracy_score, precision_score, recall_score, f1_score, roc_auc_score, roc_curve\n",
        "import matplotlib.pyplot as plt\n",
        "import time\n",
        "\n",
        "model = RandomForestClassifier(n_estimators=500, max_depth=10, min_samples_leaf = 2, random_state=100)\n",
        "start_time = time.time()\n",
        "model.fit(X_train, y_train)\n",
        "end_time = time.time()\n",
        "y_pred = model.predict(X_test)"
      ]
    },
    {
      "cell_type": "code",
      "execution_count": null,
      "metadata": {
        "colab": {
          "base_uri": "https://localhost:8080/"
        },
        "id": "O8FSlaVGrcL7",
        "outputId": "d402f9b6-457d-43a9-f75e-d1ae52b099fe"
      },
      "outputs": [
        {
          "output_type": "execute_result",
          "data": {
            "text/plain": [
              "(7178,)"
            ]
          },
          "metadata": {},
          "execution_count": 14
        }
      ],
      "source": [
        "y_pred.shape"
      ]
    },
    {
      "cell_type": "code",
      "execution_count": null,
      "metadata": {
        "colab": {
          "base_uri": "https://localhost:8080/"
        },
        "id": "lrgrlHrEqoS5",
        "outputId": "e03eee43-7af3-4df0-c095-7b1253f4a36a"
      },
      "outputs": [
        {
          "output_type": "stream",
          "name": "stdout",
          "text": [
            "Accuracy: 0.39816104764558374\n",
            "              precision    recall  f1-score   support\n",
            "\n",
            "           0       0.32      0.24      0.28       958\n",
            "           1       0.20      0.50      0.29       111\n",
            "           2       0.32      0.22      0.26      1024\n",
            "           3       0.56      0.50      0.53      1774\n",
            "           4       0.39      0.34      0.36      1233\n",
            "           5       0.34      0.38      0.36      1247\n",
            "           6       0.39      0.69      0.50       831\n",
            "\n",
            "    accuracy                           0.40      7178\n",
            "   macro avg       0.36      0.41      0.37      7178\n",
            "weighted avg       0.40      0.40      0.39      7178\n",
            "\n",
            "Thời gian huấn luyện mô hình: 789.56 giây\n"
          ]
        }
      ],
      "source": [
        "accuracy = accuracy_score(y_test, y_pred)\n",
        "print(\"Accuracy:\", accuracy)\n",
        "print(classification_report(y_test, y_pred))\n",
        "\n",
        "# Tính thời gian huấn luyện mô hình\n",
        "training_time = end_time - start_time\n",
        "print(\"Thời gian huấn luyện mô hình: {:.2f} giây\".format(training_time))"
      ]
    },
    {
      "cell_type": "code",
      "source": [
        "#Confusion Matrix\n",
        "from sklearn.metrics import confusion_matrix\n",
        "confusion_matrix(y_test, y_pred)"
      ],
      "metadata": {
        "colab": {
          "base_uri": "https://localhost:8080/"
        },
        "id": "wleGAi7oKPZy",
        "outputId": "f3233767-5e48-47a5-d097-9cd2026cdc64"
      },
      "execution_count": null,
      "outputs": [
        {
          "output_type": "execute_result",
          "data": {
            "text/plain": [
              "array([[230,  24,  92, 168, 122, 173, 149],\n",
              "       [ 10,  55,   4,  18,   5,   8,  11],\n",
              "       [ 85,  24, 224, 141, 109, 191, 250],\n",
              "       [102,  51, 100, 885, 199, 261, 176],\n",
              "       [ 96,  39, 108, 166, 416, 235, 173],\n",
              "       [147,  59, 133, 145, 161, 474, 128],\n",
              "       [ 40,  18,  44,  52,  50,  53, 574]])"
            ]
          },
          "metadata": {},
          "execution_count": 15
        }
      ]
    }
  ],
  "metadata": {
    "accelerator": "GPU",
    "colab": {
      "provenance": []
    },
    "kernelspec": {
      "display_name": "Python 3",
      "name": "python3"
    },
    "language_info": {
      "name": "python"
    }
  },
  "nbformat": 4,
  "nbformat_minor": 0
}